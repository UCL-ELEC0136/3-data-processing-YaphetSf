{
 "cells": [
  {
   "cell_type": "markdown",
   "metadata": {
    "id": "c4DmlrH60_Yq"
   },
   "source": [
    "<div width=50% style=\"display: block; margin: auto\">\n",
    "    <img src=\"figures/ucl-logo.svg\" width=100%>\n",
    "</div>\n",
    "\n",
    "### [UCL-ELEC0136 Data Acquisition and Processing Systems 2024]()\n",
    "University College London\n",
    "# Lab 3: Data Processing #1\n"
   ]
  },
  {
   "cell_type": "markdown",
   "metadata": {
    "id": "EBX0v02s1ip6"
   },
   "source": [
    "In this lab, we will use the _open-meteo_ API (https://open-meteo.com/), to acquire historical weather data for London from the past 2 years, inspect it, and prepare it for modelling.\n",
    "\n",
    "### Objectives\n",
    "* Learn to deal with **time series**\n",
    "* Learn to **plot** and represent data\n",
    "* **Normalise** your data\n",
    "* Detect and handle **outliers** in time series\n",
    "\n",
    "### Constraints\n",
    "* You cannot use pre-existing functions to normalise your data or calculate statistics about it.\n",
    "* This includes functions from `scipy`, `pandas` and other statistics library.\n",
    "* This doesn't mean you cannot use `pandas`, but that you cannot use its stats functions (e.g., functions to calculate percentile)\n",
    "* You must you `numpy` only to manipulate your data\n",
    "* All data must be acquired through Python: you cannot download the data by browsing to the website and using the mouse \n",
    "\n",
    "<hr width=70% style=\"float: left\">"
   ]
  },
  {
   "cell_type": "markdown",
   "metadata": {},
   "source": [
    "### TASKS"
   ]
  },
  {
   "cell_type": "markdown",
   "metadata": {},
   "source": [
    "<div class=\"alert alert-block alert-danger\">\n",
    "<h4>👩‍💻👨‍💻 TASK 1: Acquiring data</h4>\n",
    "\n",
    "* Create a function `acquire_data(latitude, longitude, start_date, end_date, features)` that acquires **daily** data for **London** between the **1st January 1950** and the **31st December 1954** (included)\n",
    "* We are interested in the following **features**:\n",
    "  * Mean Temperature (2 m)\n",
    "  * Minimum Temperature (2 m)\n",
    "  * Maximum Temperature (2 m)\n",
    "  * Precipitation Sum\n",
    "</div>"
   ]
  },
  {
   "cell_type": "markdown",
   "metadata": {},
   "source": [
    "<div class=\"alert alert-heading alert-danger\" style=\"background-color: white; border: 2px solid; border-radius: 5px; color: #000; border-color:#AAA; padding: 10px\">\n",
    "    <b>💎 Tip</b>\n",
    "\n",
    "* Use a WEB request to acquire the data (like for lab 1), the API endpoint is https://archive-api.open-meteo.com/v1/archive\n",
    "* Take a look at the open-meteo docs https://open-meteo.com/en/docs/historical-weather-api to see which parameters to use\n",
    "* Always specify a timezone (you can use `timezone=GMT`)\n",
    "\n",
    "</div>\n"
   ]
  },
  {
   "cell_type": "code",
   "execution_count": 24,
   "metadata": {},
   "outputs": [
    {
     "name": "stdout",
     "output_type": "stream",
     "text": [
      "{'latitude': 52.52, 'longitude': 13.419998, 'generationtime_ms': 0.1900196075439453, 'utc_offset_seconds': 0, 'timezone': 'GMT', 'timezone_abbreviation': 'GMT', 'elevation': 38.0, 'daily_units': {'time': 'iso8601', 'temperature_2m_max': '°C', 'temperature_2m_min': '°C', 'precipitation_sum': 'mm'}, 'daily': {'time': ['2023-09-09', '2023-09-10', '2023-09-11', '2023-09-12', '2023-09-13', '2023-09-14', '2023-09-15', '2023-09-16', '2023-09-17', '2023-09-18', '2023-09-19', '2023-09-20', '2023-09-21', '2023-09-22', '2023-09-23', '2023-09-24', '2023-09-25', '2023-09-26', '2023-09-27', '2023-09-28', '2023-09-29', '2023-09-30', '2023-10-01', '2023-10-02', '2023-10-03', '2023-10-04', '2023-10-05', '2023-10-06', '2023-10-07', '2023-10-08', '2023-10-09', '2023-10-10', '2023-10-11', '2023-10-12', '2023-10-13', '2023-10-14', '2023-10-15', '2023-10-16', '2023-10-17', '2023-10-18', '2023-10-19', '2023-10-20', '2023-10-21', '2023-10-22'], 'temperature_2m_max': [30.1, 30.6, 30.3, 29.7, 22.1, 19.9, 23.1, 25.5, 27.3, 25.9, 20.9, 24.7, 28.5, 18.4, 17.9, 18.8, 21.5, 24.1, 26.5, 26.3, 22.7, 19.2, 19.6, 25.1, 24.8, 16.9, 15.9, 17.3, 17.0, 14.7, 11.3, 16.5, 23.6, 18.9, 21.1, 19.3, 11.0, 10.7, 11.1, 12.1, 7.3, 7.1, 17.6, 16.0], 'temperature_2m_min': [14.1, 12.2, 12.6, 15.6, 14.7, 11.4, 9.7, 11.7, 12.5, 16.7, 15.7, 14.8, 14.4, 14.3, 12.3, 10.5, 8.6, 11.4, 12.3, 13.1, 13.4, 12.0, 12.6, 14.4, 13.0, 12.3, 11.2, 11.5, 11.5, 10.0, 9.1, 10.5, 13.9, 12.8, 13.0, 9.3, 6.2, 4.8, 3.5, 0.3, 5.6, 4.9, 6.5, 9.8], 'precipitation_sum': [0.0, 0.0, 0.0, 0.0, 5.4, 0.0, 0.0, 0.0, 0.0, 1.9, 0.0, 0.0, 0.0, 2.5, 0.0, 0.0, 0.0, 0.0, 0.0, 0.0, 0.0, 0.0, 0.6, 0.0, 3.9, 0.0, 0.0, 0.4, 4.8, 0.5, 6.3, 0.1, 0.0, 4.1, 0.7, 6.9, 0.0, 0.0, 0.0, 0.0, 3.7, 6.2, 0.0, 2.5]}}\n"
     ]
    }
   ],
   "source": [
    "import requests\n",
    "\n",
    "x = requests.get('https://api.open-meteo.com/v1/forecast?latitude=52.52&longitude=13.41&daily=temperature_2m_max,temperature_2m_min,precipitation_sum&timezone=GMT&start_date=2023-09-09&end_date=2023-10-22')\n",
    "print(x.json())\n",
    "\n",
    "web_data = requests.get('https://api.open-meteo.com/v1/forecast?')"
   ]
  },
  {
   "cell_type": "code",
   "execution_count": 1,
   "metadata": {
    "id": "Cx7BliAP2ajI"
   },
   "outputs": [],
   "source": [
    "from typing import List\n",
    "import requests\n",
    "import pandas as pd\n",
    "\n",
    "# create a function\n",
    "def acquire_data(latitude: float, longitude: float, start_date: str, end_date: str, features: List[str]) -> dict:\n",
    "    \"\"\"\n",
    "    Acquires data from the Open-meteo API for a given location and time period.\n",
    "    The API endpoint is https://archive-api.open-meteo.com/v1/archive.\n",
    "\n",
    "    Args:\n",
    "        latitude (float): latitude of the location\n",
    "        longitude (float): longitude of the location\n",
    "        start_date (str): start date of the data in the format YYYY-MM-DD\n",
    "        end_date (str): end date of the data in the format YYYY-MM-DD\n",
    "        features (List[str]): list of features to be extracted from the API\n",
    "    Returns:\n",
    "        (dict): dictionary of data\n",
    "    \"\"\"\n",
    "    # add your code here\n",
    "    features = \",\".join(features)\n",
    "    print(features)    \n",
    "    concatenate_url = 'https://api.open-meteo.com/v1/forecast?latitude='+str(latitude)+'&longitude='+str(longitude)+'&daily='+str(features)+'&timezone=GMT&start_date='+str(start_date)+'&end_date='+str(end_date)\n",
    "    print(\"concatenated URL:\",concatenate_url)\n",
    "    web_data = requests.get(concatenate_url)\n",
    "    web_data_json = web_data.json()\n",
    "    return web_data_json\n",
    "    #web_data = requests.get('https://api.open-meteo.com/v1/forecast?latitude=52.52&longitude=13.41&daily=temperature_2m_max,temperature_2m_min,precipitation_sum&timezone=GMT&start_date=2023-09-09&end_date=2023-10-22')\n",
    "\n"
   ]
  },
  {
   "cell_type": "markdown",
   "metadata": {},
   "source": [
    "<div class=\"alert alert-block alert-danger\">\n",
    "<h4>👩‍💻👨‍💻 TASK 2: Handling data</h4>\n",
    "\n",
    "* Run the function above to acquire the data\n",
    "* Create a pandas dataframe from the acquired data\n",
    "</div>"
   ]
  },
  {
   "cell_type": "code",
   "execution_count": 10,
   "metadata": {},
   "outputs": [
    {
     "name": "stdout",
     "output_type": "stream",
     "text": [
      "temperature_2m_mean,temperature_2m_min,temperature_2m_max,precipitation_sum\n",
      "concatenated URL: https://api.open-meteo.com/v1/forecast?latitude=51.5085&longitude=-0.1257&daily=temperature_2m_mean,temperature_2m_min,temperature_2m_max,precipitation_sum&timezone=GMT&start_date=1950-01-01&end_date=1954-12-31\n",
      "{'reason': \"Parameter 'start_date' is out of allowed range from 2022-06-08 to 2023-11-16\", 'error': True}\n"
     ]
    },
    {
     "ename": "KeyError",
     "evalue": "'daily'",
     "output_type": "error",
     "traceback": [
      "\u001b[0;31m---------------------------------------------------------------------------\u001b[0m",
      "\u001b[0;31mKeyError\u001b[0m                                  Traceback (most recent call last)",
      "\u001b[1;32m/Users/yaphets/Desktop/year4/ELEC0136/3-data-processing-YaphetSf/3-data-processing.ipynb Cell 9\u001b[0m line \u001b[0;36m2\n\u001b[1;32m     <a href='vscode-notebook-cell:/Users/yaphets/Desktop/year4/ELEC0136/3-data-processing-YaphetSf/3-data-processing.ipynb#X12sZmlsZQ%3D%3D?line=25'>26</a>\u001b[0m \u001b[39mprint\u001b[39m(data)\n\u001b[1;32m     <a href='vscode-notebook-cell:/Users/yaphets/Desktop/year4/ELEC0136/3-data-processing-YaphetSf/3-data-processing.ipynb#X12sZmlsZQ%3D%3D?line=26'>27</a>\u001b[0m \u001b[39m# create the dataframe\u001b[39;00m\n\u001b[0;32m---> <a href='vscode-notebook-cell:/Users/yaphets/Desktop/year4/ELEC0136/3-data-processing-YaphetSf/3-data-processing.ipynb#X12sZmlsZQ%3D%3D?line=27'>28</a>\u001b[0m time_series \u001b[39m=\u001b[39m data\u001b[39m.\u001b[39;49mpop(\u001b[39m\"\u001b[39;49m\u001b[39mdaily\u001b[39;49m\u001b[39m\"\u001b[39;49m)\n\u001b[1;32m     <a href='vscode-notebook-cell:/Users/yaphets/Desktop/year4/ELEC0136/3-data-processing-YaphetSf/3-data-processing.ipynb#X12sZmlsZQ%3D%3D?line=29'>30</a>\u001b[0m time_series \u001b[39m=\u001b[39m pd\u001b[39m.\u001b[39mDataFrame(time_series)\n\u001b[1;32m     <a href='vscode-notebook-cell:/Users/yaphets/Desktop/year4/ELEC0136/3-data-processing-YaphetSf/3-data-processing.ipynb#X12sZmlsZQ%3D%3D?line=30'>31</a>\u001b[0m meta_data \u001b[39m=\u001b[39m pd\u001b[39m.\u001b[39mDataFrame(data)\n",
      "\u001b[0;31mKeyError\u001b[0m: 'daily'"
     ]
    }
   ],
   "source": [
    "# add your code here\n",
    "london_latitude = 51.5085\n",
    "london_longitude = -0.1257\n",
    "\n",
    "start_date = \"1950-01-01\"\n",
    "# start_date = \"2022-06-08\"\n",
    "end_date = \"1954-12-31\"\n",
    "# end_date = \"2023-11-10\"\n",
    "timezone = \"GMT\"\n",
    "features = [\"temperature_2m_mean\",\"temperature_2m_min\",\"temperature_2m_max\",\"precipitation_sum\"]\n",
    "# features = \",\".join(features)\n",
    "# print(features)\n",
    "# weather_data = acquire_data(london_latitude, london_longitude, start_date, end_date, features)\n",
    "\n",
    "# # popping daily?\n",
    "# weather_data_daily = weather_data.pop(\"daily\")\n",
    "\n",
    "# df_weather_data_daily = pd.DataFrame(weather_data_daily)\n",
    "# # meta_data = pd.DataFrame(data)\n",
    "\n",
    "# # # let's have a look at it\n",
    "# df_weather_data_daily.head()\n",
    "\n",
    "# perform the request\n",
    "data = acquire_data(london_latitude, london_longitude, start_date, end_date, features)\n",
    "# create the dataframe\n",
    "time_series = data.pop(\"daily\")\n",
    "\n",
    "time_series = pd.DataFrame(time_series)\n",
    "meta_data = pd.DataFrame(data)\n",
    "\n",
    "# let's have a look at it\n",
    "meta_data.head()"
   ]
  },
  {
   "cell_type": "markdown",
   "metadata": {},
   "source": [
    "<div class=\"alert alert-block alert-danger\">\n",
    "<h4>👩‍💻👨‍💻 TASK 3: Plot your data</h4>\n",
    "\n",
    "* Create a function `lineplot(x, y, title, x_label, y_label)` that creates a lineplot for the feature named `feature_name` and returns both the `Figure` and the `Axis` objects\n",
    "* The function must return both the matplotlib `figure` object and the `axis` object\n",
    "* Use the function to create two images containing plots of both the temperature and precipitations and save them to disk\n",
    "</div>"
   ]
  },
  {
   "cell_type": "markdown",
   "metadata": {},
   "source": [
    "<div class=\"alert alert-heading alert-danger\" style=\"background-color: white; border: 2px solid; border-radius: 5px; color: #000; border-color:#AAA; padding: 10px\">\n",
    "    <b>💎 Tip</b>\n",
    "\n",
    "* Use `matplotlib` to create the plots\n",
    "* Use the appropriate type of plot for the data that you want to visualise\n",
    "* For example, you can use a lineplot to plot the average temperature\n",
    "* Or, you can use a candlestick plot a shaded areaplot to plot min, max, and average temperature in the same figure\n",
    "\n",
    "</div>\n"
   ]
  },
  {
   "cell_type": "code",
   "execution_count": 5,
   "metadata": {},
   "outputs": [],
   "source": [
    "from numpy.typing import ArrayLike\n",
    "import matplotlib.pyplot as plt\n",
    "\n",
    "\n",
    "def lineplot(x: ArrayLike, y: ArrayLike, title: str, x_label: str, y_label: str) -> (plt.Figure, plt.Axes):\n",
    "    \"\"\"\n",
    "    Creates a line plot for the given data, title and labels.\n",
    "\n",
    "    Args:\n",
    "        x (ArrayLike): value of the data on the x-axis\n",
    "        y (ArrayLike): value of the data on the y-axis\n",
    "        title (str): title of the plot\n",
    "        x_label (str): x-axis label\n",
    "        y_label (str): y-axis label\n",
    "    Returns:\n",
    "        (plt.Figure, plt.Axes): matplotlib figure and axes objects\n",
    "    \"\"\"\n",
    "    # add your code here\n",
    "    fig, ax = plt.subplots(1, figsize=(30, 4))\n",
    "\n",
    "    # add the data to the plot\n",
    "    ax.plot(x, y)\n",
    "\n",
    "    # remove whitespace before and after\n",
    "    ax.margins(x=0)\n",
    "\n",
    "    # format the axes\n",
    "    ax.set_title(title)\n",
    "    ax.set_xlabel(x_label)\n",
    "    ax.set_ylabel(y_label)\n",
    "    ax.set_xticks(x[::20], x[::20], rotation=60)\n",
    "    return fig, ax    "
   ]
  },
  {
   "cell_type": "code",
   "execution_count": 6,
   "metadata": {},
   "outputs": [
    {
     "data": {
      "image/png": "[encoded data removed]",
      "text/plain": [
       "<Figure size 3000x400 with 1 Axes>"
      ]
     },
     "metadata": {},
     "output_type": "display_data"
    }
   ],
   "source": [
    "\n",
    "# insert time as the x-axis\n",
    "x1 = time_series['time'];\n",
    "# insert targeted data as the y-axis\n",
    "y1 = time_series['temperature_2m_mean']\n",
    "fig1, ax1 = lineplot(x1,y1,'title','x','y')\n"
   ]
  },
  {
   "cell_type": "markdown",
   "metadata": {},
   "source": [
    "<div class=\"alert alert-block alert-warning\">\n",
    "<h4>👩‍💻👨‍💻 [Optional] TASK 3.1: multivariate plots</h4>\n",
    "\n",
    "* Create a function `lineplots(x, ys, title, x_label, y_label, legend)` that plot the two variables on the same graph and returns both the `Figure` and the `Axis` objects\n",
    "* Add a legend\n",
    "</div>"
   ]
  },
  {
   "cell_type": "code",
   "execution_count": 6,
   "metadata": {},
   "outputs": [],
   "source": [
    "def lineplots(x: ArrayLike, ys: List[ArrayLike], title: str, x_label: str, y_label: str, legend: List[str]) -> (plt.Figure, plt.Axes):\n",
    "    \"\"\"\n",
    "    Creates a line plot for each list of data in the given list of data, title and labels.\n",
    "\n",
    "    Args:\n",
    "        x (ArrayLike): value of the data on the x-axis\n",
    "        ys (List[ArrayLike]): list of values of the data on the y-axis\n",
    "        title (str): title of the plot\n",
    "        x_label (str): x-axis label\n",
    "        y_label (str): y-axis label\n",
    "        legend (List[str]): list of legend labels\n",
    "    Returns:\n",
    "        (plt.Figure, plt.Axes): matplotlib figure and axes objects\n",
    "    \"\"\"\n",
    "    # add your code here\n",
    "    ax.set_xticks(x[::20],(x[::20],rotation=60)"
   ]
  },
  {
   "cell_type": "markdown",
   "metadata": {},
   "source": [
    "<div class=\"alert alert-block alert-warning\">\n",
    "<h4>👩‍💻👨‍💻 [Optional] TASK 3.2: Plot with additional statistics</h4>\n",
    "\n",
    "* Create a shaded area plot, where the mean temperature is the central line, and the minimum, and the maximum are the lower and upper bounds of the shaded area.\n",
    "* The function should return both the `Figure` and the `Axis` objects\n",
    "* The shaded area must be 0.3 opacity\n",
    "* See https://swdevnotes.com/python/2020/display-line-chart-range/ for an example output\n",
    "</div>"
   ]
  },
  {
   "cell_type": "markdown",
   "metadata": {},
   "source": [
    "<div class=\"alert alert-heading alert-danger\" style=\"background-color: white; border: 2px solid; border-radius: 5px; color: #000; border-color:#AAA; padding: 10px\">\n",
    "    <b>💎 Tip</b>\n",
    "\n",
    "* You can modify existing plots by reusing the `axis`\n",
    "* For example, running `ax.plot` on an axis that already contains another plot, adds a plot on top of it\n",
    "\n",
    "</div>\n"
   ]
  },
  {
   "cell_type": "code",
   "execution_count": 7,
   "metadata": {},
   "outputs": [],
   "source": [
    "# add your code here"
   ]
  },
  {
   "cell_type": "markdown",
   "metadata": {},
   "source": [
    "<div class=\"alert alert-block alert-danger\">\n",
    "<h4>👩‍💻👨‍💻 TASK 4: Normalising your data</h4>\n",
    "\n",
    "* Create a function `minmax_norm(x)` that takes the acquired data, normalises the data using Min-Max normalisation only using `numpy`\n",
    "* The function should returns an array containing the normalised data\n",
    "* Normalise the `temperature_2m_mean` feature\n",
    "* Plot the normalised data over the non-normalised one in the same plot\n",
    "</div>"
   ]
  },
  {
   "cell_type": "code",
   "execution_count": 8,
   "metadata": {},
   "outputs": [],
   "source": [
    "import numpy as np\n",
    "\n",
    "\n",
    "def minmax_norm(x: ArrayLike) -> ArrayLike:\n",
    "    \"\"\"\n",
    "    Normalises the data between 0 and 1 using the min-max normalization.\n",
    "\n",
    "    Args:\n",
    "        x (ArrayLike): data to be normalized\n",
    "    Returns:\n",
    "        (ArrayLike): normalized data\n",
    "    \"\"\"\n",
    "    # add your code here"
   ]
  },
  {
   "cell_type": "markdown",
   "metadata": {},
   "source": [
    "<div class=\"alert alert-block alert-warning\">\n",
    "<h4>👩‍💻👨‍💻 [Optional] TASK 4.1: Z-score normalisation</h4>\n",
    "\n",
    "* Create a function `zscore_norm(x)` that takes a pandas series and normalises it using the z-score.\n",
    "* The function should returns an array containing the normalised data\n",
    "* Normalise the `temperature_2m_mean` feature\n",
    "* Plot the normalised data over the non-normalised one in the same plot\n",
    "</div>"
   ]
  },
  {
   "cell_type": "code",
   "execution_count": 9,
   "metadata": {},
   "outputs": [],
   "source": [
    "def zscore_norm(x: ArrayLike) -> ArrayLike:\n",
    "    \"\"\"\n",
    "    Normalises the data using the z-score normalization.\n",
    "\n",
    "    Args:\n",
    "        x (ArrayLike): data to be normalized\n",
    "    Returns:\n",
    "        (ArrayLike): normalized data\n",
    "    \"\"\"\n",
    "    # add your code here"
   ]
  },
  {
   "cell_type": "markdown",
   "metadata": {},
   "source": [
    "<div class=\"alert alert-block alert-danger\">\n",
    "<h4>👩‍💻👨‍💻 TASK 5: Outliers detection</h4>\n",
    "\n",
    "* Create a function `zscore_outliers(x, threshold=3)` that takes the acquired data, checks if each data point is an outliers by verifying that its z-score is greater than `threshold`\n",
    "* The function must return the index of the outliers\n",
    "* Check for outliers in `temperature_2m_mean`\n",
    "</div>"
   ]
  },
  {
   "cell_type": "code",
   "execution_count": 10,
   "metadata": {},
   "outputs": [],
   "source": [
    "def zscore_outliers(x: ArrayLike, threshold: int=3) -> ArrayLike:\n",
    "    \"\"\"\n",
    "    Detects outliers using the z-score method and returns the indices of the outliers.\n",
    "\n",
    "    Args:\n",
    "        x (ArrayLike): data to be checked for outliers\n",
    "        threshold (int): threshold for the z-score method\n",
    "\n",
    "    Returns:\n",
    "        (ArrayLike): indices of the outliers\n",
    "    \"\"\"\n",
    "    # add your code here"
   ]
  },
  {
   "cell_type": "markdown",
   "metadata": {},
   "source": [
    "<div class=\"alert alert-block alert-warning\">\n",
    "<h4>👩‍💻👨‍💻 [Optional] TASK 5.1: Plotting outliers</h4>\n",
    "\n",
    "* Create a function `mark_outliers(ax, idx)` that marks the outliers with a red dot\n",
    "* The function should return the `Figure` and the `Axis` object containing the plot\n",
    "* Plot the data with the marked outliers\n",
    "</div>"
   ]
  },
  {
   "cell_type": "code",
   "execution_count": 11,
   "metadata": {},
   "outputs": [],
   "source": [
    "def mark_outliers(ax: plt.Axes, x: ArrayLike, y: ArrayLike, outliers_idx: ArrayLike) -> plt.Axes:\n",
    "    \"\"\"\n",
    "    Plots red circles around the outliers in a certain line plot.\n",
    "\n",
    "    Args:\n",
    "        ax (plt.Axis): the older axis to plot on that contains the original line plot\n",
    "        x (ArrayLike): the x-data for the line plot\n",
    "        y (ArrayLike): the y-data for the line plot\n",
    "        outliers_idx (ArrayLike): indices of the outliers\n",
    "    \"\"\"\n",
    "    # add your code here"
   ]
  },
  {
   "cell_type": "markdown",
   "metadata": {},
   "source": [
    "<div class=\"alert alert-block alert-warning\">\n",
    "<h4>👩‍💻👨‍💻 [Optional] TASK 5.3: Detect outliers using the IQR method </h4>\n",
    "\n",
    "* Create a function `iqr_detect(x, threshold=1.5)` that returns the indices of the outliers in the original data according to the **IQR** method\n",
    "* Plot the data with the marked outliers\n",
    "</div>"
   ]
  },
  {
   "cell_type": "markdown",
   "metadata": {},
   "source": [
    "<div class=\"alert alert-heading alert-danger\" style=\"background-color: white; border: 2px solid; border-radius: 5px; color: #000; border-color:#AAA; padding: 10px\">\n",
    "    <b>💎 Tip</b>\n",
    "\n",
    "* You can use `np.quantile` to get the quantile of a uniform, discrete distrbution\n",
    "\n",
    "</div>\n"
   ]
  },
  {
   "cell_type": "code",
   "execution_count": 12,
   "metadata": {},
   "outputs": [],
   "source": [
    "def iqr_detect(x: ArrayLike, threshold: float=1.5) -> ArrayLike:\n",
    "    \"\"\"\n",
    "    Detects outliers using the interquantile range method and returns the indices of the outliers.\n",
    "\n",
    "    Args:\n",
    "        x (ArrayLike): data to be checked for outliers\n",
    "        threshold (float): threshold for the interquantile range method\n",
    "\n",
    "    Returns:\n",
    "        (ArrayLike): indices of the outliers\n",
    "    \"\"\"\n",
    "    # add your code here"
   ]
  },
  {
   "cell_type": "markdown",
   "metadata": {},
   "source": [
    "<div class=\"alert alert-block alert-danger\">\n",
    "<h4>👩‍💻👨‍💻 TASK 6: Clamping outliers</h4>\n",
    "\n",
    "* One way to deal with outliers is to compress them into a range of acceptable values\n",
    "* Create a function `zscore_clamp(x, threshold=3)` that clamps the outliers into the range between 10th percentile and 90th percentile\n",
    "* The function should return a numpy array containing the clamped data\n",
    "* Plot the non-clamped data over the clamped one\n",
    "  \n",
    "</div>"
   ]
  },
  {
   "cell_type": "markdown",
   "metadata": {},
   "source": [
    "<div class=\"alert alert-heading alert-danger\" style=\"background-color: white; border: 2px solid; border-radius: 5px; color: #000; border-color:#AAA; padding: 10px\">\n",
    "    <b>💎 Tip</b>\n",
    "\n",
    "* Not every outlier is bad!! For example in financial problems, such as stock prediction, outliers is **exactly** what you are looking for\n",
    "* **Removing outliers in that case might not benefit our analysis**\n",
    "* Always make an **informed** decision whether to remove outliers and always **justify** it\n",
    "\n",
    "</div>\n"
   ]
  },
  {
   "cell_type": "code",
   "execution_count": 13,
   "metadata": {},
   "outputs": [],
   "source": [
    "def zscore_clamp(x: ArrayLike, threshold: int=3) -> ArrayLike:\n",
    "    \"\"\"\n",
    "    Clamps outliers using the z-score method and returns the clamped data.\n",
    "\n",
    "    Args:\n",
    "        x (ArrayLike): data to be clamped\n",
    "        threshold (int): threshold for the z-score method\n",
    "\n",
    "    Returns:\n",
    "        (ArrayLike): clamped data\n",
    "    \"\"\"\n",
    "    # add your code here"
   ]
  },
  {
   "cell_type": "markdown",
   "metadata": {},
   "source": [
    "<div class=\"alert alert-block alert-warning\">\n",
    "<h4>👩‍💻👨‍💻 [Optional] TASK 6.1: Replace outliers by n-degree interpolation </h4>\n",
    "\n",
    "* Create a function `zscore_interp(x, time, threshold=3, deg=3)` that replaces the z-score outliers with values from a polynomial fit on clean data\n",
    "* The function should return a numpy array containing the interpolated data\n",
    "* Plot the data before and after replacing outliers\n",
    "* Experiment with different value of `deg`, e.g., `1`, `3`, `11`, and `23`\n",
    "</div>"
   ]
  },
  {
   "cell_type": "markdown",
   "metadata": {},
   "source": [
    "<div class=\"alert alert-heading alert-danger\" style=\"background-color: white; border: 2px solid; border-radius: 5px; color: #000; border-color:#AAA; padding: 10px\">\n",
    "    <b>💎 Tip</b>\n",
    "\n",
    "* You can index a numpy array with another numpy array of boolean values\n",
    "* This will return only the values at which the index is `True`\n",
    "* Try using this method to get only the clean data (that without outliers)\n",
    "</div>\n"
   ]
  },
  {
   "cell_type": "code",
   "execution_count": 14,
   "metadata": {},
   "outputs": [],
   "source": [
    "def zscore_interp(x: ArrayLike, y: ArrayLike, threshold: int=3, deg: int=1) -> ArrayLike:\n",
    "    \"\"\"\n",
    "    Interpolates outliers using the z-score method and returns the interpolated data using a `deg`-degree approximation.\n",
    "\n",
    "    Args:\n",
    "        x (ArrayLike): x-variate of data to be interpolated\n",
    "        y (ArrayLike): y-variate of data to be interpolated\n",
    "        threshold (int): threshold for the z-score method\n",
    "        deg (int): degree of the polynomial approximation\n",
    "\n",
    "    Returns:\n",
    "        (ArrayLike): interpolated data\n",
    "    \"\"\"\n",
    "    # add your code here"
   ]
  },
  {
   "cell_type": "code",
   "execution_count": null,
   "metadata": {},
   "outputs": [],
   "source": []
  }
 ],
 "metadata": {
  "colab": {
   "collapsed_sections": [],
   "name": "LAB2.ipynb",
   "provenance": [
    {
     "file_id": "1Oi_asqq_7A12-Rbgi3Mf1NH4TMradDpC",
     "timestamp": 1603822785138
    }
   ]
  },
  "kernelspec": {
   "display_name": "Python 3 (ipykernel)",
   "language": "python",
   "name": "python3"
  },
  "language_info": {
   "codemirror_mode": {
    "name": "ipython",
    "version": 3
   },
   "file_extension": ".py",
   "mimetype": "text/x-python",
   "name": "python",
   "nbconvert_exporter": "python",
   "pygments_lexer": "ipython3",
   "version": "3.11.5"
  }
 },
 "nbformat": 4,
 "nbformat_minor": 4
}
